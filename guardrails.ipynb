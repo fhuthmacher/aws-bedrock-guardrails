{
 "cells": [
  {
   "cell_type": "code",
   "execution_count": 3,
   "metadata": {},
   "outputs": [
    {
     "name": "stdout",
     "output_type": "stream",
     "text": [
      "Channels:\n",
      " - defaults\n",
      "Platform: linux-64\n",
      "Collecting package metadata (repodata.json): done\n",
      "Solving environment: | Channels:\n",
      " - defaults\n",
      "Platform: linux-64\n",
      "Collecting package metadata (repodata.json): \\ / \\ \\ done\n",
      "Solving environment: done\n",
      "done\n",
      "\n",
      "## Package Plan ##\n",
      "\n",
      "  environment location: /home/sagemaker-user/.conda/envs/bedrock-guardrails\n",
      "\n",
      "  added / updated specs:\n",
      "    - ipykernel\n",
      "\n",
      "\n",
      "\n",
      "\n",
      "Downloading and Extracting Packages:\n",
      "\n",
      "Preparing transaction: done\n",
      "Verifying transaction: done\n",
      "Executing transaction: done\n"
     ]
    }
   ],
   "source": [
    "# 1. Create a conda environment\n",
    "\n",
    "# !conda create -y --name bedrock-guardrails python=3.11.8\n",
    "# !conda init && activate bedrock-guardrails\n",
    "# !conda install -n bedrock-guardrails ipykernel --update-deps --force-reinstall -y"
   ]
  },
  {
   "cell_type": "code",
   "execution_count": 3,
   "metadata": {},
   "outputs": [
    {
     "name": "stdout",
     "output_type": "stream",
     "text": [
      "Requirement already satisfied: boto3 in /home/sagemaker-user/.conda/envs/bedrock-guardrails/lib/python3.11/site-packages (from -r requirements.txt (line 1)) (1.35.0)\n",
      "Requirement already satisfied: python-dotenv in /home/sagemaker-user/.conda/envs/bedrock-guardrails/lib/python3.11/site-packages (from -r requirements.txt (line 2)) (1.0.1)\n",
      "Collecting langchain-aws (from -r requirements.txt (line 3))\n",
      "  Downloading langchain_aws-0.1.16-py3-none-any.whl.metadata (3.1 kB)\n",
      "Requirement already satisfied: botocore<1.36.0,>=1.35.0 in /home/sagemaker-user/.conda/envs/bedrock-guardrails/lib/python3.11/site-packages (from boto3->-r requirements.txt (line 1)) (1.35.0)\n",
      "Requirement already satisfied: jmespath<2.0.0,>=0.7.1 in /home/sagemaker-user/.conda/envs/bedrock-guardrails/lib/python3.11/site-packages (from boto3->-r requirements.txt (line 1)) (1.0.1)\n",
      "Requirement already satisfied: s3transfer<0.11.0,>=0.10.0 in /home/sagemaker-user/.conda/envs/bedrock-guardrails/lib/python3.11/site-packages (from boto3->-r requirements.txt (line 1)) (0.10.2)\n",
      "Collecting boto3 (from -r requirements.txt (line 1))\n",
      "  Using cached boto3-1.34.162-py3-none-any.whl.metadata (6.6 kB)\n",
      "Collecting langchain-core<0.3,>=0.2.29 (from langchain-aws->-r requirements.txt (line 3))\n",
      "  Downloading langchain_core-0.2.33-py3-none-any.whl.metadata (6.2 kB)\n",
      "Collecting numpy<2,>=1 (from langchain-aws->-r requirements.txt (line 3))\n",
      "  Using cached numpy-1.26.4-cp311-cp311-manylinux_2_17_x86_64.manylinux2014_x86_64.whl.metadata (61 kB)\n",
      "Collecting botocore<1.35.0,>=1.34.162 (from boto3->-r requirements.txt (line 1))\n",
      "  Using cached botocore-1.34.162-py3-none-any.whl.metadata (5.7 kB)\n",
      "Requirement already satisfied: python-dateutil<3.0.0,>=2.1 in /home/sagemaker-user/.conda/envs/bedrock-guardrails/lib/python3.11/site-packages (from botocore<1.35.0,>=1.34.162->boto3->-r requirements.txt (line 1)) (2.9.0.post0)\n",
      "Requirement already satisfied: urllib3!=2.2.0,<3,>=1.25.4 in /home/sagemaker-user/.conda/envs/bedrock-guardrails/lib/python3.11/site-packages (from botocore<1.35.0,>=1.34.162->boto3->-r requirements.txt (line 1)) (2.2.2)\n",
      "Collecting PyYAML>=5.3 (from langchain-core<0.3,>=0.2.29->langchain-aws->-r requirements.txt (line 3))\n",
      "  Using cached PyYAML-6.0.2-cp311-cp311-manylinux_2_17_x86_64.manylinux2014_x86_64.whl.metadata (2.1 kB)\n",
      "Collecting jsonpatch<2.0,>=1.33 (from langchain-core<0.3,>=0.2.29->langchain-aws->-r requirements.txt (line 3))\n",
      "  Using cached jsonpatch-1.33-py2.py3-none-any.whl.metadata (3.0 kB)\n",
      "Collecting langsmith<0.2.0,>=0.1.75 (from langchain-core<0.3,>=0.2.29->langchain-aws->-r requirements.txt (line 3))\n",
      "  Downloading langsmith-0.1.99-py3-none-any.whl.metadata (13 kB)\n",
      "Requirement already satisfied: packaging<25,>=23.2 in /home/sagemaker-user/.conda/envs/bedrock-guardrails/lib/python3.11/site-packages (from langchain-core<0.3,>=0.2.29->langchain-aws->-r requirements.txt (line 3)) (24.1)\n",
      "Collecting pydantic<3,>=1 (from langchain-core<0.3,>=0.2.29->langchain-aws->-r requirements.txt (line 3))\n",
      "  Using cached pydantic-2.8.2-py3-none-any.whl.metadata (125 kB)\n",
      "Collecting tenacity!=8.4.0,<9.0.0,>=8.1.0 (from langchain-core<0.3,>=0.2.29->langchain-aws->-r requirements.txt (line 3))\n",
      "  Using cached tenacity-8.5.0-py3-none-any.whl.metadata (1.2 kB)\n",
      "Requirement already satisfied: typing-extensions>=4.7 in /home/sagemaker-user/.conda/envs/bedrock-guardrails/lib/python3.11/site-packages (from langchain-core<0.3,>=0.2.29->langchain-aws->-r requirements.txt (line 3)) (4.11.0)\n",
      "Collecting jsonpointer>=1.9 (from jsonpatch<2.0,>=1.33->langchain-core<0.3,>=0.2.29->langchain-aws->-r requirements.txt (line 3))\n",
      "  Using cached jsonpointer-3.0.0-py2.py3-none-any.whl.metadata (2.3 kB)\n",
      "Collecting orjson<4.0.0,>=3.9.14 (from langsmith<0.2.0,>=0.1.75->langchain-core<0.3,>=0.2.29->langchain-aws->-r requirements.txt (line 3))\n",
      "  Downloading orjson-3.10.7-cp311-cp311-manylinux_2_17_x86_64.manylinux2014_x86_64.whl.metadata (50 kB)\n",
      "Collecting requests<3,>=2 (from langsmith<0.2.0,>=0.1.75->langchain-core<0.3,>=0.2.29->langchain-aws->-r requirements.txt (line 3))\n",
      "  Using cached requests-2.32.3-py3-none-any.whl.metadata (4.6 kB)\n",
      "Collecting annotated-types>=0.4.0 (from pydantic<3,>=1->langchain-core<0.3,>=0.2.29->langchain-aws->-r requirements.txt (line 3))\n",
      "  Using cached annotated_types-0.7.0-py3-none-any.whl.metadata (15 kB)\n",
      "Collecting pydantic-core==2.20.1 (from pydantic<3,>=1->langchain-core<0.3,>=0.2.29->langchain-aws->-r requirements.txt (line 3))\n",
      "  Using cached pydantic_core-2.20.1-cp311-cp311-manylinux_2_17_x86_64.manylinux2014_x86_64.whl.metadata (6.6 kB)\n",
      "Requirement already satisfied: six>=1.5 in /home/sagemaker-user/.conda/envs/bedrock-guardrails/lib/python3.11/site-packages (from python-dateutil<3.0.0,>=2.1->botocore<1.35.0,>=1.34.162->boto3->-r requirements.txt (line 1)) (1.16.0)\n",
      "Collecting charset-normalizer<4,>=2 (from requests<3,>=2->langsmith<0.2.0,>=0.1.75->langchain-core<0.3,>=0.2.29->langchain-aws->-r requirements.txt (line 3))\n",
      "  Using cached charset_normalizer-3.3.2-cp311-cp311-manylinux_2_17_x86_64.manylinux2014_x86_64.whl.metadata (33 kB)\n",
      "Collecting idna<4,>=2.5 (from requests<3,>=2->langsmith<0.2.0,>=0.1.75->langchain-core<0.3,>=0.2.29->langchain-aws->-r requirements.txt (line 3))\n",
      "  Using cached idna-3.7-py3-none-any.whl.metadata (9.9 kB)\n",
      "Collecting certifi>=2017.4.17 (from requests<3,>=2->langsmith<0.2.0,>=0.1.75->langchain-core<0.3,>=0.2.29->langchain-aws->-r requirements.txt (line 3))\n",
      "  Using cached certifi-2024.7.4-py3-none-any.whl.metadata (2.2 kB)\n",
      "Downloading langchain_aws-0.1.16-py3-none-any.whl (76 kB)\n",
      "Using cached boto3-1.34.162-py3-none-any.whl (139 kB)\n",
      "Using cached botocore-1.34.162-py3-none-any.whl (12.5 MB)\n",
      "Downloading langchain_core-0.2.33-py3-none-any.whl (391 kB)\n",
      "Using cached numpy-1.26.4-cp311-cp311-manylinux_2_17_x86_64.manylinux2014_x86_64.whl (18.3 MB)\n",
      "Using cached jsonpatch-1.33-py2.py3-none-any.whl (12 kB)\n",
      "Downloading langsmith-0.1.99-py3-none-any.whl (140 kB)\n",
      "Using cached pydantic-2.8.2-py3-none-any.whl (423 kB)\n",
      "Using cached pydantic_core-2.20.1-cp311-cp311-manylinux_2_17_x86_64.manylinux2014_x86_64.whl (2.1 MB)\n",
      "Using cached PyYAML-6.0.2-cp311-cp311-manylinux_2_17_x86_64.manylinux2014_x86_64.whl (762 kB)\n",
      "Using cached tenacity-8.5.0-py3-none-any.whl (28 kB)\n",
      "Using cached annotated_types-0.7.0-py3-none-any.whl (13 kB)\n",
      "Using cached jsonpointer-3.0.0-py2.py3-none-any.whl (7.6 kB)\n",
      "Downloading orjson-3.10.7-cp311-cp311-manylinux_2_17_x86_64.manylinux2014_x86_64.whl (141 kB)\n",
      "Using cached requests-2.32.3-py3-none-any.whl (64 kB)\n",
      "Using cached certifi-2024.7.4-py3-none-any.whl (162 kB)\n",
      "Using cached charset_normalizer-3.3.2-cp311-cp311-manylinux_2_17_x86_64.manylinux2014_x86_64.whl (140 kB)\n",
      "Using cached idna-3.7-py3-none-any.whl (66 kB)\n",
      "Installing collected packages: tenacity, PyYAML, pydantic-core, orjson, numpy, jsonpointer, idna, charset-normalizer, certifi, annotated-types, requests, pydantic, jsonpatch, botocore, langsmith, langchain-core, boto3, langchain-aws\n",
      "  Attempting uninstall: botocore\n",
      "    Found existing installation: botocore 1.35.0\n",
      "    Uninstalling botocore-1.35.0:\n",
      "      Successfully uninstalled botocore-1.35.0\n",
      "  Attempting uninstall: boto3\n",
      "    Found existing installation: boto3 1.35.0\n",
      "    Uninstalling boto3-1.35.0:\n",
      "      Successfully uninstalled boto3-1.35.0\n",
      "Successfully installed PyYAML-6.0.2 annotated-types-0.7.0 boto3-1.34.162 botocore-1.34.162 certifi-2024.7.4 charset-normalizer-3.3.2 idna-3.7 jsonpatch-1.33 jsonpointer-3.0.0 langchain-aws-0.1.16 langchain-core-0.2.33 langsmith-0.1.99 numpy-1.26.4 orjson-3.10.7 pydantic-2.8.2 pydantic-core-2.20.1 requests-2.32.3 tenacity-8.5.0\n"
     ]
    }
   ],
   "source": [
    "# 2. Install dependencies\n",
    "\n",
    "!pip install -r requirements.txt"
   ]
  },
  {
   "cell_type": "code",
   "execution_count": 16,
   "metadata": {},
   "outputs": [],
   "source": [
    "# 3. Import necessary libraries and load environment variables\n",
    "import json\n",
    "from dotenv import load_dotenv, find_dotenv, set_key\n",
    "import os\n",
    "import boto3\n",
    "\n",
    "\n",
    "# loading environment variables that are stored in local file\n",
    "local_env_filename = 'bedrock-guardrails.env'\n",
    "load_dotenv(find_dotenv(local_env_filename),override=True)\n",
    "\n",
    "os.environ['REGION'] = os.getenv('REGION')\n",
    "os.environ['AWS_BEDROCK_GUARDRAIL_ID'] = os.getenv('AWS_BEDROCK_GUARDRAIL_ID')\n",
    "REGION = os.environ['REGION']\n",
    "AWS_BEDROCK_GUARDRAIL_ID = os.environ['AWS_BEDROCK_GUARDRAIL_ID']\n",
    "\n",
    "bedrock_runtime_client = boto3.client(service_name='bedrock-runtime', region_name=REGION)\n",
    "bedrock_client = boto3.client(service_name='bedrock', region_name=REGION)\n",
    "\n",
    "MODEL_ID = \"amazon.titan-text-express-v1\" #\"anthropic.claude-3-haiku-20240307-v1:0\" # \"anthropic.claude-3-5-sonnet-20240620-v1:0\" \"meta.llama3-1-70b-instruct-v1:0\"\n",
    "\n",
    "# source: https://medium.com/@vinayakdeshpande111/aws-guardrails-with-langchain-6554411d4d74"
   ]
  },
  {
   "cell_type": "code",
   "execution_count": 17,
   "metadata": {},
   "outputs": [
    {
     "name": "stdout",
     "output_type": "stream",
     "text": [
      "AWS_BEDROCK_GUARDRAIL_ID: 6mjrqx7shadv\n"
     ]
    },
    {
     "data": {
      "text/plain": [
       "(True, 'AWS_BEDROCK_GUARDRAIL_ID', '6mjrqx7shadv')"
      ]
     },
     "execution_count": 17,
     "metadata": {},
     "output_type": "execute_result"
    }
   ],
   "source": [
    "# Create Bedrock Guardrail\n",
    "\n",
    "import json, random, string\n",
    "\n",
    "response = bedrock_client.create_guardrail(\n",
    "    name=\"Guardrail-from-Code-\" + \"\".join(random.choices(string.ascii_lowercase, k=8)),\n",
    "    description='string',\n",
    "    topicPolicyConfig={\n",
    "        'topicsConfig': [\n",
    "            {\n",
    "                \"name\": \"Bitcoin\",\n",
    "                \"definition\": \"Providing advice, direction, or examples of how to mine, use, or interact with Bitcoin, including Cryptocurrency-related third-party services.\",\n",
    "                \"examples\": [\n",
    "                    \"How do I mine Bitcoin?\",\n",
    "                    \"What is the current value of BTC?\",\n",
    "                    \"Which instance is the best for crypto mining?\",\n",
    "                    \"Is mining cryptocurrency against the terms?\",\n",
    "                    \"How do I maximize my Bitcoin profits?\",\n",
    "                ],\n",
    "                \"type\": \"DENY\",\n",
    "            }\n",
    "        ]\n",
    "    },\n",
    "    contentPolicyConfig={\n",
    "        'filtersConfig': [\n",
    "            {\"type\": \"SEXUAL\", \"inputStrength\": \"HIGH\", \"outputStrength\": \"HIGH\"},\n",
    "            {\"type\": \"HATE\", \"inputStrength\": \"HIGH\", \"outputStrength\": \"HIGH\"},\n",
    "            {\"type\": \"VIOLENCE\", \"inputStrength\": \"HIGH\", \"outputStrength\": \"HIGH\"},\n",
    "            {\"type\": \"INSULTS\", \"inputStrength\": \"HIGH\", \"outputStrength\": \"HIGH\"},\n",
    "            {\"type\": \"MISCONDUCT\", \"inputStrength\": \"HIGH\", \"outputStrength\": \"HIGH\"},\n",
    "            {\"type\": \"PROMPT_ATTACK\", \"inputStrength\": \"HIGH\", \"outputStrength\": \"NONE\"},\n",
    "        ]\n",
    "    },\n",
    "    wordPolicyConfig={\n",
    "        \"wordsConfig\": [{\"text\": \"AnyCompany\"}],\n",
    "        \"managedWordListsConfig\": [{\"type\": \"PROFANITY\"}],\n",
    "    },\n",
    "    sensitiveInformationPolicyConfig={\n",
    "        \"piiEntitiesConfig\": [\n",
    "            {\"type\": \"NAME\", \"action\": \"ANONYMIZE\"},\n",
    "            {\"type\": \"EMAIL\", \"action\": \"ANONYMIZE\"},\n",
    "        ],\n",
    "    },\n",
    "    blockedInputMessaging=\"Apologies, this model cannot be used to discuss inappropriate or off-topic content.\",\n",
    "    blockedOutputsMessaging=\"Apologies, the model's response to your request was blocked.\",\n",
    ")\n",
    "\n",
    "\n",
    "os.environ['AWS_BEDROCK_GUARDRAIL_ID'] = response['guardrailId']\n",
    "AWS_BEDROCK_GUARDRAIL_ID = os.environ['AWS_BEDROCK_GUARDRAIL_ID']\n",
    "print(f'AWS_BEDROCK_GUARDRAIL_ID: {AWS_BEDROCK_GUARDRAIL_ID}')\n",
    "# Update environment variable\n",
    "set_key(local_env_filename, 'AWS_BEDROCK_GUARDRAIL_ID', AWS_BEDROCK_GUARDRAIL_ID)"
   ]
  },
  {
   "cell_type": "code",
   "execution_count": 23,
   "metadata": {},
   "outputs": [
    {
     "name": "stdout",
     "output_type": "stream",
     "text": [
      "VERSION: 3\n"
     ]
    }
   ],
   "source": [
    "# Create a guardrail version\n",
    "response = bedrock_client.create_guardrail_version(\n",
    "    guardrailIdentifier=AWS_BEDROCK_GUARDRAIL_ID,\n",
    ")\n",
    "VERSION = response.get('version')\n",
    "print(f'VERSION: {VERSION}')"
   ]
  },
  {
   "cell_type": "code",
   "execution_count": 29,
   "metadata": {},
   "outputs": [
    {
     "name": "stdout",
     "output_type": "stream",
     "text": [
      "Apologies, this model cannot be used to discuss inappropriate or off-topic content.\n"
     ]
    }
   ],
   "source": [
    "# Invoking model with guardrail directly\n",
    "\n",
    "import json\n",
    "\n",
    "prompt = \"How do I mine Bitcoin?\"\n",
    "\n",
    "body = {\n",
    "    \"inputText\": prompt,\n",
    "    \"textGenerationConfig\": {\n",
    "        \"maxTokenCount\": 512,\n",
    "        \"stopSequences\": [],\n",
    "        \"temperature\": 0,\n",
    "        \"topP\": 0.9\n",
    "    }\n",
    "}\n",
    "\n",
    "response = bedrock_runtime_client.invoke_model(\n",
    "    body=json.dumps(body),\n",
    "    modelId=MODEL_ID,\n",
    "    contentType=\"application/json\",\n",
    "    accept=\"application/json\",\n",
    "    guardrailIdentifier=AWS_BEDROCK_GUARDRAIL_ID,\n",
    "    guardrailVersion=VERSION,\n",
    ")\n",
    "\n",
    "response_body = json.loads(response.get('body').read()) # read the response\n",
    "\n",
    "response_text = response_body['results'][0]['outputText']\n",
    "\n",
    "print(response_text)"
   ]
  },
  {
   "cell_type": "code",
   "execution_count": 25,
   "metadata": {},
   "outputs": [],
   "source": [
    "# Initialize Langchain LLM wrapper\n",
    "\n",
    "from langchain_aws import BedrockLLM\n",
    "\n",
    "llm = BedrockLLM(\n",
    "    model_id=MODEL_ID,\n",
    "    model_kwargs={},\n",
    "    guardrails={\"guardrailIdentifier\": AWS_BEDROCK_GUARDRAIL_ID, \"guardrailVersion\": VERSION, \"trace\": True},\n",
    "    region_name= REGION\n",
    ")"
   ]
  },
  {
   "cell_type": "code",
   "execution_count": 26,
   "metadata": {},
   "outputs": [],
   "source": [
    "# Create Langchain prompt template\n",
    "from langchain_core.prompts import ChatPromptTemplate\n",
    "prompt_template = ChatPromptTemplate.from_messages([\n",
    "    (\"system\", \"You are a helpful assistant.\" \n",
    "                \"You answer the questions based on your knowledge.\" \n",
    "                \"Return only the answer without any prefix or suffix.\"),\n",
    "    (\"human\", \"Question : ```{imput}```\")\n",
    "])"
   ]
  },
  {
   "cell_type": "code",
   "execution_count": 27,
   "metadata": {},
   "outputs": [],
   "source": [
    "# Create chain\n",
    "from langchain_core.output_parsers import StrOutputParser\n",
    "\n",
    "chain = prompt_template | llm | StrOutputParser()"
   ]
  },
  {
   "cell_type": "code",
   "execution_count": 30,
   "metadata": {},
   "outputs": [
    {
     "name": "stdout",
     "output_type": "stream",
     "text": [
      "result: Apologies, this model cannot be used to discuss inappropriate or off-topic content.\n",
      "result: \n",
      "{NAME}: The email address you provided is invalid.\n"
     ]
    }
   ],
   "source": [
    "# Test Guardrails\n",
    " \n",
    "result = chain.invoke(input = 'How do I mine Bitcoin?')\n",
    "\n",
    "print(f'result: {result}')\n",
    "\n",
    "result = chain.invoke(input = 'My email address is fhuthmacher@gmail.com')\n",
    "print(f'result: {result}')"
   ]
  },
  {
   "cell_type": "markdown",
   "metadata": {},
   "source": [
    "### Conclusion\n",
    "\n",
    "Amazon Bedrock Guardrails are a way for you to implement safeguards tailored to your application requirements and aligned with your responsible AI policies. You can use Guardrails with models on Amazon Bedrock or with any 3rd Party or self hosted model. \n",
    "Guardrails enable you to configure responsible AI filters, block specific topics in simple natural language, block or mask sensitive information, and help filter and reduce irrelevant or hallucinated response.\n"
   ]
  },
  {
   "cell_type": "markdown",
   "metadata": {},
   "source": [
    "### Appendix\n",
    "1) Bedrock Guardrails workshop: https://catalog.workshops.aws/building-with-amazon-bedrock/en-US/security-safeguards\n",
    "2) Youtube Video: https://www.youtube.com/watch?v=srQxO_o9KgM\n",
    "3) Bedrock Guardrails pricing: https://aws.amazon.com/bedrock/pricing/"
   ]
  }
 ],
 "metadata": {
  "kernelspec": {
   "display_name": "base",
   "language": "python",
   "name": "python3"
  },
  "language_info": {
   "codemirror_mode": {
    "name": "ipython",
    "version": 3
   },
   "file_extension": ".py",
   "mimetype": "text/x-python",
   "name": "python",
   "nbconvert_exporter": "python",
   "pygments_lexer": "ipython3",
   "version": "3.11.9"
  }
 },
 "nbformat": 4,
 "nbformat_minor": 2
}
