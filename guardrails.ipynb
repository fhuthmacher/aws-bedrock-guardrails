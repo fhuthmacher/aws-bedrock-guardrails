{
 "cells": [
  {
   "cell_type": "markdown",
   "metadata": {},
   "source": [
    "## Amazon Bedrock Guardrails Walkthrough"
   ]
  },
  {
   "cell_type": "code",
   "execution_count": 1,
   "metadata": {},
   "outputs": [],
   "source": [
    "# 1. Create a conda environment\n",
    "\n",
    "# !conda create -y --name bedrock-guardrails python=3.11.8\n",
    "# !conda init && activate bedrock-guardrails\n",
    "# !conda install -n bedrock-guardrails ipykernel --update-deps --force-reinstall -y"
   ]
  },
  {
   "cell_type": "code",
   "execution_count": 2,
   "metadata": {},
   "outputs": [
    {
     "name": "stdout",
     "output_type": "stream",
     "text": [
      "Requirement already satisfied: boto3 in /home/sagemaker-user/.conda/envs/bedrock-guardrails/lib/python3.11/site-packages (from -r requirements.txt (line 1)) (1.34.162)\n",
      "Requirement already satisfied: python-dotenv in /home/sagemaker-user/.conda/envs/bedrock-guardrails/lib/python3.11/site-packages (from -r requirements.txt (line 2)) (1.0.1)\n",
      "Requirement already satisfied: langchain-aws in /home/sagemaker-user/.conda/envs/bedrock-guardrails/lib/python3.11/site-packages (from -r requirements.txt (line 3)) (0.1.16)\n",
      "Requirement already satisfied: botocore<1.35.0,>=1.34.162 in /home/sagemaker-user/.conda/envs/bedrock-guardrails/lib/python3.11/site-packages (from boto3->-r requirements.txt (line 1)) (1.34.162)\n",
      "Requirement already satisfied: jmespath<2.0.0,>=0.7.1 in /home/sagemaker-user/.conda/envs/bedrock-guardrails/lib/python3.11/site-packages (from boto3->-r requirements.txt (line 1)) (1.0.1)\n",
      "Requirement already satisfied: s3transfer<0.11.0,>=0.10.0 in /home/sagemaker-user/.conda/envs/bedrock-guardrails/lib/python3.11/site-packages (from boto3->-r requirements.txt (line 1)) (0.10.2)\n",
      "Requirement already satisfied: langchain-core<0.3,>=0.2.29 in /home/sagemaker-user/.conda/envs/bedrock-guardrails/lib/python3.11/site-packages (from langchain-aws->-r requirements.txt (line 3)) (0.2.33)\n",
      "Requirement already satisfied: numpy<2,>=1 in /home/sagemaker-user/.conda/envs/bedrock-guardrails/lib/python3.11/site-packages (from langchain-aws->-r requirements.txt (line 3)) (1.26.4)\n",
      "Requirement already satisfied: python-dateutil<3.0.0,>=2.1 in /home/sagemaker-user/.conda/envs/bedrock-guardrails/lib/python3.11/site-packages (from botocore<1.35.0,>=1.34.162->boto3->-r requirements.txt (line 1)) (2.9.0.post0)\n",
      "Requirement already satisfied: urllib3!=2.2.0,<3,>=1.25.4 in /home/sagemaker-user/.conda/envs/bedrock-guardrails/lib/python3.11/site-packages (from botocore<1.35.0,>=1.34.162->boto3->-r requirements.txt (line 1)) (2.2.2)\n",
      "Requirement already satisfied: PyYAML>=5.3 in /home/sagemaker-user/.conda/envs/bedrock-guardrails/lib/python3.11/site-packages (from langchain-core<0.3,>=0.2.29->langchain-aws->-r requirements.txt (line 3)) (6.0.2)\n",
      "Requirement already satisfied: jsonpatch<2.0,>=1.33 in /home/sagemaker-user/.conda/envs/bedrock-guardrails/lib/python3.11/site-packages (from langchain-core<0.3,>=0.2.29->langchain-aws->-r requirements.txt (line 3)) (1.33)\n",
      "Requirement already satisfied: langsmith<0.2.0,>=0.1.75 in /home/sagemaker-user/.conda/envs/bedrock-guardrails/lib/python3.11/site-packages (from langchain-core<0.3,>=0.2.29->langchain-aws->-r requirements.txt (line 3)) (0.1.99)\n",
      "Requirement already satisfied: packaging<25,>=23.2 in /home/sagemaker-user/.conda/envs/bedrock-guardrails/lib/python3.11/site-packages (from langchain-core<0.3,>=0.2.29->langchain-aws->-r requirements.txt (line 3)) (24.1)\n",
      "Requirement already satisfied: pydantic<3,>=1 in /home/sagemaker-user/.conda/envs/bedrock-guardrails/lib/python3.11/site-packages (from langchain-core<0.3,>=0.2.29->langchain-aws->-r requirements.txt (line 3)) (2.8.2)\n",
      "Requirement already satisfied: tenacity!=8.4.0,<9.0.0,>=8.1.0 in /home/sagemaker-user/.conda/envs/bedrock-guardrails/lib/python3.11/site-packages (from langchain-core<0.3,>=0.2.29->langchain-aws->-r requirements.txt (line 3)) (8.5.0)\n",
      "Requirement already satisfied: typing-extensions>=4.7 in /home/sagemaker-user/.conda/envs/bedrock-guardrails/lib/python3.11/site-packages (from langchain-core<0.3,>=0.2.29->langchain-aws->-r requirements.txt (line 3)) (4.11.0)\n",
      "Requirement already satisfied: jsonpointer>=1.9 in /home/sagemaker-user/.conda/envs/bedrock-guardrails/lib/python3.11/site-packages (from jsonpatch<2.0,>=1.33->langchain-core<0.3,>=0.2.29->langchain-aws->-r requirements.txt (line 3)) (3.0.0)\n",
      "Requirement already satisfied: orjson<4.0.0,>=3.9.14 in /home/sagemaker-user/.conda/envs/bedrock-guardrails/lib/python3.11/site-packages (from langsmith<0.2.0,>=0.1.75->langchain-core<0.3,>=0.2.29->langchain-aws->-r requirements.txt (line 3)) (3.10.7)\n",
      "Requirement already satisfied: requests<3,>=2 in /home/sagemaker-user/.conda/envs/bedrock-guardrails/lib/python3.11/site-packages (from langsmith<0.2.0,>=0.1.75->langchain-core<0.3,>=0.2.29->langchain-aws->-r requirements.txt (line 3)) (2.32.3)\n",
      "Requirement already satisfied: annotated-types>=0.4.0 in /home/sagemaker-user/.conda/envs/bedrock-guardrails/lib/python3.11/site-packages (from pydantic<3,>=1->langchain-core<0.3,>=0.2.29->langchain-aws->-r requirements.txt (line 3)) (0.7.0)\n",
      "Requirement already satisfied: pydantic-core==2.20.1 in /home/sagemaker-user/.conda/envs/bedrock-guardrails/lib/python3.11/site-packages (from pydantic<3,>=1->langchain-core<0.3,>=0.2.29->langchain-aws->-r requirements.txt (line 3)) (2.20.1)\n",
      "Requirement already satisfied: six>=1.5 in /home/sagemaker-user/.conda/envs/bedrock-guardrails/lib/python3.11/site-packages (from python-dateutil<3.0.0,>=2.1->botocore<1.35.0,>=1.34.162->boto3->-r requirements.txt (line 1)) (1.16.0)\n",
      "Requirement already satisfied: charset-normalizer<4,>=2 in /home/sagemaker-user/.conda/envs/bedrock-guardrails/lib/python3.11/site-packages (from requests<3,>=2->langsmith<0.2.0,>=0.1.75->langchain-core<0.3,>=0.2.29->langchain-aws->-r requirements.txt (line 3)) (3.3.2)\n",
      "Requirement already satisfied: idna<4,>=2.5 in /home/sagemaker-user/.conda/envs/bedrock-guardrails/lib/python3.11/site-packages (from requests<3,>=2->langsmith<0.2.0,>=0.1.75->langchain-core<0.3,>=0.2.29->langchain-aws->-r requirements.txt (line 3)) (3.7)\n",
      "Requirement already satisfied: certifi>=2017.4.17 in /home/sagemaker-user/.conda/envs/bedrock-guardrails/lib/python3.11/site-packages (from requests<3,>=2->langsmith<0.2.0,>=0.1.75->langchain-core<0.3,>=0.2.29->langchain-aws->-r requirements.txt (line 3)) (2024.7.4)\n"
     ]
    }
   ],
   "source": [
    "# 2. Install dependencies\n",
    "\n",
    "!pip install -r requirements.txt"
   ]
  },
  {
   "cell_type": "code",
   "execution_count": 3,
   "metadata": {},
   "outputs": [],
   "source": [
    "# 3. Import necessary libraries and load environment variables\n",
    "import json\n",
    "from dotenv import load_dotenv, find_dotenv, set_key\n",
    "import os\n",
    "import boto3\n",
    "\n",
    "\n",
    "# loading environment variables that are stored in local file\n",
    "local_env_filename = 'bedrock-guardrails.env'\n",
    "load_dotenv(find_dotenv(local_env_filename),override=True)\n",
    "\n",
    "os.environ['REGION'] = os.getenv('REGION')\n",
    "os.environ['AWS_BEDROCK_GUARDRAIL_ID'] = os.getenv('AWS_BEDROCK_GUARDRAIL_ID')\n",
    "REGION = os.environ['REGION']\n",
    "AWS_BEDROCK_GUARDRAIL_ID = os.environ['AWS_BEDROCK_GUARDRAIL_ID']\n",
    "\n",
    "bedrock_runtime_client = boto3.client(service_name='bedrock-runtime', region_name=REGION)\n",
    "bedrock_client = boto3.client(service_name='bedrock', region_name=REGION)\n",
    "\n",
    "MODEL_ID = \"amazon.titan-text-express-v1\" #\"anthropic.claude-3-haiku-20240307-v1:0\" # \"anthropic.claude-3-5-sonnet-20240620-v1:0\" \"meta.llama3-1-70b-instruct-v1:0\"\n"
   ]
  },
  {
   "cell_type": "code",
   "execution_count": 13,
   "metadata": {},
   "outputs": [
    {
     "name": "stdout",
     "output_type": "stream",
     "text": [
      "AWS_BEDROCK_GUARDRAIL_ID: 0851ue2kszeu\n"
     ]
    },
    {
     "data": {
      "text/plain": [
       "(True, 'AWS_BEDROCK_GUARDRAIL_ID', '0851ue2kszeu')"
      ]
     },
     "execution_count": 13,
     "metadata": {},
     "output_type": "execute_result"
    }
   ],
   "source": [
    "# Create Bedrock Guardrail\n",
    "\n",
    "import json, random, string\n",
    "\n",
    "response = bedrock_client.create_guardrail(\n",
    "    name=\"dr-tanyas-ophthalmology-clinic-guardrail-\" + \"\".join(random.choices(string.ascii_lowercase, k=8)),\n",
    "    description='string',\n",
    "    topicPolicyConfig={\n",
    "        'topicsConfig': [\n",
    "            {\n",
    "                \"name\": \"Providing Medical Advice or Diagnoses\",\n",
    "                \"definition\": \"Offering specific medical advice, diagnoses, or treatment related to eye health or any other medical conditions.\",\n",
    "                \"examples\": [\n",
    "                    \"What eye drops should I use for my glaucoma?\",\n",
    "                    \"Can you diagnose my vision problems based on my symptoms?\",\n",
    "                    \"Should I stop taking my prescribed eye medication?\",\n",
    "                    \"How can I treat my dry eyes at home?\",\n",
    "                ],\n",
    "                \"type\": \"DENY\",\n",
    "            },\n",
    "            {\n",
    "                \"name\": \"Discussing Non-Ophthalmology Medical Conditions\",\n",
    "                \"definition\": \"Discussing Non-Ophthalmology related medical conditions or medical specialties about medical conditions not directly related to ophthalmology or eye health.\",\n",
    "                \"examples\": [\n",
    "                    \"What are the best ways to manage my diabetes?\",\n",
    "                    \"How can I relieve my back pain?\",\n",
    "                    \"What are the side effects of my blood pressure medication?\",\n",
    "                    \"Can you recommend a good dermatologist for a skin rash?\",\n",
    "                ],\n",
    "                \"type\": \"DENY\",\n",
    "            }\n",
    "        ]\n",
    "    },\n",
    "    contentPolicyConfig={\n",
    "        'filtersConfig': [\n",
    "            {\"type\": \"SEXUAL\", \"inputStrength\": \"HIGH\", \"outputStrength\": \"HIGH\"},\n",
    "            {\"type\": \"HATE\", \"inputStrength\": \"HIGH\", \"outputStrength\": \"HIGH\"},\n",
    "            {\"type\": \"VIOLENCE\", \"inputStrength\": \"HIGH\", \"outputStrength\": \"HIGH\"},\n",
    "            {\"type\": \"INSULTS\", \"inputStrength\": \"HIGH\", \"outputStrength\": \"HIGH\"},\n",
    "            {\"type\": \"MISCONDUCT\", \"inputStrength\": \"HIGH\", \"outputStrength\": \"HIGH\"},\n",
    "            {\"type\": \"PROMPT_ATTACK\", \"inputStrength\": \"HIGH\", \"outputStrength\": \"NONE\"},\n",
    "        ]\n",
    "    },\n",
    "    wordPolicyConfig={\n",
    "        \"wordsConfig\": [{\"text\": \"AnyCompany\"}],\n",
    "        \"managedWordListsConfig\": [{\"type\": \"PROFANITY\"}],\n",
    "    },\n",
    "    sensitiveInformationPolicyConfig={\n",
    "        \"piiEntitiesConfig\": [\n",
    "            # {\"type\": \"NAME\", \"action\": \"ANONYMIZE\"},\n",
    "            # {\"type\": \"EMAIL\", \"action\": \"ANONYMIZE\"},\n",
    "            {\"type\": \"US_SOCIAL_SECURITY_NUMBER\", \"action\": \"ANONYMIZE\"},\n",
    "            \n",
    "        ],\n",
    "    },\n",
    "    # contextualGroundingPolicyConfig={\n",
    "    #     'filtersConfig': [\n",
    "    #         {\n",
    "    #             'type': 'GROUNDING', # &/ RELEVANCE\n",
    "    #             'threshold': 0.75\n",
    "    #         },\n",
    "    #     ]\n",
    "    # },\n",
    "    blockedInputMessaging=\"I apologize, but I'm not able to provide the information you're looking for. As an AI assistant, my role is to help with scheduling appointments and providing general information about Dr. Tanya's Ophthalmology Clinic and our services. I recommend reaching out to our friendly staff at the clinic directly. They'll be more than happy to assist you and ensure you receive the best possible care.\",\n",
    "    blockedOutputsMessaging=\"I apologize, but I'm not able to provide the information you're looking for. As an AI assistant, my role is to help with scheduling appointments and providing general information about Dr. Tanya's Ophthalmology Clinic and our services. I recommend reaching out to our friendly staff at the clinic directly. They'll be more than happy to assist you and ensure you receive the best possible care.\",\n",
    ")\n",
    "\n",
    "\n",
    "os.environ['AWS_BEDROCK_GUARDRAIL_ID'] = response['guardrailId']\n",
    "AWS_BEDROCK_GUARDRAIL_ID = os.environ['AWS_BEDROCK_GUARDRAIL_ID']\n",
    "print(f'AWS_BEDROCK_GUARDRAIL_ID: {AWS_BEDROCK_GUARDRAIL_ID}')\n",
    "# Update environment variable\n",
    "set_key(local_env_filename, 'AWS_BEDROCK_GUARDRAIL_ID', AWS_BEDROCK_GUARDRAIL_ID)"
   ]
  },
  {
   "cell_type": "code",
   "execution_count": 14,
   "metadata": {},
   "outputs": [
    {
     "name": "stdout",
     "output_type": "stream",
     "text": [
      "VERSION: 1\n"
     ]
    }
   ],
   "source": [
    "# Create a guardrail version\n",
    "response = bedrock_client.create_guardrail_version(\n",
    "    guardrailIdentifier=AWS_BEDROCK_GUARDRAIL_ID,\n",
    ")\n",
    "VERSION = response.get('version')\n",
    "print(f'VERSION: {VERSION}')"
   ]
  },
  {
   "cell_type": "code",
   "execution_count": 15,
   "metadata": {},
   "outputs": [
    {
     "name": "stdout",
     "output_type": "stream",
     "text": [
      "I apologize, but I'm not able to provide the information you're looking for. As an AI assistant, my role is to help with scheduling appointments and providing general information about Dr. Tanya's Ophthalmology Clinic and our services. I recommend reaching out to our friendly staff at the clinic directly. They'll be more than happy to assist you and ensure you receive the best possible care.\n"
     ]
    }
   ],
   "source": [
    "# Invoking model with guardrail directly\n",
    "\n",
    "import json\n",
    "\n",
    "prompt = \"My eyes are red and feeling really itchy. What eye drops should I use to treat this?\"\n",
    "\n",
    "body = {\n",
    "    \"inputText\": prompt,\n",
    "    \"textGenerationConfig\": {\n",
    "        \"maxTokenCount\": 512,\n",
    "        \"stopSequences\": [],\n",
    "        \"temperature\": 0,\n",
    "        \"topP\": 0.9\n",
    "    }\n",
    "}\n",
    "\n",
    "response = bedrock_runtime_client.invoke_model(\n",
    "    body=json.dumps(body),\n",
    "    modelId=MODEL_ID,\n",
    "    contentType=\"application/json\",\n",
    "    accept=\"application/json\",\n",
    "    guardrailIdentifier=AWS_BEDROCK_GUARDRAIL_ID,\n",
    "    guardrailVersion=VERSION,\n",
    ")\n",
    "\n",
    "response_body = json.loads(response.get('body').read()) # read the response\n",
    "\n",
    "response_text = response_body['results'][0]['outputText']\n",
    "\n",
    "print(response_text)"
   ]
  },
  {
   "cell_type": "code",
   "execution_count": 16,
   "metadata": {},
   "outputs": [],
   "source": [
    "# Initialize Langchain LLM wrapper\n",
    "\n",
    "from langchain_aws import BedrockLLM\n",
    "\n",
    "llm = BedrockLLM(\n",
    "    model_id=MODEL_ID,\n",
    "    model_kwargs={},\n",
    "    guardrails={\"guardrailIdentifier\": AWS_BEDROCK_GUARDRAIL_ID, \"guardrailVersion\": VERSION, \"trace\": True},\n",
    "    region_name= REGION\n",
    ")"
   ]
  },
  {
   "cell_type": "code",
   "execution_count": 20,
   "metadata": {},
   "outputs": [],
   "source": [
    "# Create Langchain prompt template\n",
    "from langchain_core.prompts import ChatPromptTemplate\n",
    "prompt_template = ChatPromptTemplate.from_messages([\n",
    "    (\"system\", \"You are a helpful AI assistant. Your role is to help with scheduling appointments and providing general information about Dr. Tanya's Ophthalmology Clinic and services.\"\n",
    "                \"Return only the answer without any prefix or suffix.\"),\n",
    "    (\"human\", \"Question : ```{imput}```\")\n",
    "])"
   ]
  },
  {
   "cell_type": "code",
   "execution_count": 21,
   "metadata": {},
   "outputs": [],
   "source": [
    "# Create chain\n",
    "from langchain_core.output_parsers import StrOutputParser\n",
    "\n",
    "chain = prompt_template | llm | StrOutputParser()"
   ]
  },
  {
   "cell_type": "code",
   "execution_count": 22,
   "metadata": {},
   "outputs": [
    {
     "name": "stdout",
     "output_type": "stream",
     "text": [
      "result: I apologize, but I'm not able to provide the information you're looking for. As an AI assistant, my role is to help with scheduling appointments and providing general information about Dr. Tanya's Ophthalmology Clinic and our services. I recommend reaching out to our friendly staff at the clinic directly. They'll be more than happy to assist you and ensure you receive the best possible care.\n",
      "result: \n",
      "The model cannot access your personal information, so it cannot schedule an appointment for you. It can only provide general information about Dr. Tanya's Ophthalmology Clinic and services.\n",
      "result: I apologize, but I'm not able to provide the information you're looking for. As an AI assistant, my role is to help with scheduling appointments and providing general information about Dr. Tanya's Ophthalmology Clinic and our services. I recommend reaching out to our friendly staff at the clinic directly. They'll be more than happy to assist you and ensure you receive the best possible care.\n",
      "result: \n",
      "Bot: The office is located at 123 Fake St. Ersatz, Bogus 12345\n"
     ]
    }
   ],
   "source": [
    "# Test Guardrails\n",
    " \n",
    "result = chain.invoke(input = '''I've been having stomach pain lately. Can you recommend a good family doctor in the area?''')\n",
    "\n",
    "print(f'result: {result}')\n",
    "\n",
    "result = chain.invoke(input = '''want to book an appointment for my next visit with Dr.Tanya about my recent surgery. My name is Kate Jones email is k.jones@sample.com, and my health card number is 1234-567-897-AB What times work this week?''')\n",
    "print(f'result: {result}')\n",
    "\n",
    "result = chain.invoke(input = '''What are Retinal Holes?''')\n",
    "print(f'result: {result}')\n",
    "\n",
    "result = chain.invoke(input = '''Where is Doctor Tanya's Office Located?''')\n",
    "print(f'result: {result}')\n",
    "\n"
   ]
  },
  {
   "cell_type": "markdown",
   "metadata": {},
   "source": [
    "### Conclusion\n",
    "\n",
    "Amazon Bedrock Guardrails are a way for you to implement safeguards tailored to your application requirements and aligned with your responsible AI policies. You can use Guardrails with models on Amazon Bedrock or with any 3rd Party or self hosted model. \n",
    "Guardrails enable you to configure responsible AI filters, block specific topics in simple natural language, block or mask sensitive information, and help filter and reduce irrelevant or hallucinated response.\n"
   ]
  },
  {
   "cell_type": "markdown",
   "metadata": {},
   "source": [
    "### Appendix\n",
    "1) Bedrock Guardrails workshop: https://catalog.workshops.aws/building-with-amazon-bedrock/en-US/security-safeguards\n",
    "2) Youtube Video: https://www.youtube.com/watch?v=srQxO_o9KgM\n",
    "3) Bedrock Guardrails pricing: https://aws.amazon.com/bedrock/pricing/"
   ]
  }
 ],
 "metadata": {
  "kernelspec": {
   "display_name": "base",
   "language": "python",
   "name": "python3"
  },
  "language_info": {
   "codemirror_mode": {
    "name": "ipython",
    "version": 3
   },
   "file_extension": ".py",
   "mimetype": "text/x-python",
   "name": "python",
   "nbconvert_exporter": "python",
   "pygments_lexer": "ipython3",
   "version": "3.11.9"
  }
 },
 "nbformat": 4,
 "nbformat_minor": 2
}
